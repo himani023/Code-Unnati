{
 "cells": [
  {
   "cell_type": "code",
   "execution_count": 5,
   "id": "bd6bb920",
   "metadata": {},
   "outputs": [
    {
     "name": "stdout",
     "output_type": "stream",
     "text": [
      "30.55\n"
     ]
    }
   ],
   "source": [
    "a=10                # Integer\n",
    "b='python'          #String\n",
    "name= 30.55         #float\n",
    "print(name)"
   ]
  },
  {
   "cell_type": "code",
   "execution_count": 12,
   "id": "dbdba119",
   "metadata": {},
   "outputs": [
    {
     "name": "stdout",
     "output_type": "stream",
     "text": [
      "20 30 40.5 h\n",
      "\n",
      "20, 30, 40.5, h\n"
     ]
    }
   ],
   "source": [
    "#multiple assinment\n",
    "c,d,e,f=20,30,40.5,'h'\n",
    "print(c,d,e,f)\n",
    "print()\n",
    "print(c,d,e,f,sep=', ')"
   ]
  },
  {
   "cell_type": "code",
   "execution_count": 16,
   "id": "f4e9caa0",
   "metadata": {},
   "outputs": [
    {
     "name": "stdout",
     "output_type": "stream",
     "text": [
      "100 100 100\n"
     ]
    }
   ],
   "source": [
    "g=h=i=100\n",
    "print(g,h,i)"
   ]
  },
  {
   "cell_type": "code",
   "execution_count": 17,
   "id": "1283cc90",
   "metadata": {},
   "outputs": [
    {
     "data": {
      "text/plain": [
       "100"
      ]
     },
     "execution_count": 17,
     "metadata": {},
     "output_type": "execute_result"
    }
   ],
   "source": [
    "i"
   ]
  },
  {
   "cell_type": "code",
   "execution_count": 18,
   "id": "fe67adef",
   "metadata": {},
   "outputs": [],
   "source": [
    "del i"
   ]
  },
  {
   "cell_type": "code",
   "execution_count": 19,
   "id": "8b8cc43b",
   "metadata": {},
   "outputs": [
    {
     "ename": "NameError",
     "evalue": "name 'i' is not defined",
     "output_type": "error",
     "traceback": [
      "\u001b[1;31m---------------------------------------------------------------------------\u001b[0m",
      "\u001b[1;31mNameError\u001b[0m                                 Traceback (most recent call last)",
      "\u001b[1;32m<ipython-input-19-397d543883c5>\u001b[0m in \u001b[0;36m<module>\u001b[1;34m\u001b[0m\n\u001b[1;32m----> 1\u001b[1;33m \u001b[0mi\u001b[0m\u001b[1;33m\u001b[0m\u001b[1;33m\u001b[0m\u001b[0m\n\u001b[0m",
      "\u001b[1;31mNameError\u001b[0m: name 'i' is not defined"
     ]
    }
   ],
   "source": [
    "i"
   ]
  },
  {
   "cell_type": "markdown",
   "id": "379611f5",
   "metadata": {},
   "source": [
    "Python data type\n",
    "\n",
    "* Immutable data type\n",
    "1) number (float, int, complex no)\n",
    "2) string\n",
    "3) tuples\n",
    "\n",
    "* Mutable data type\n",
    "1) list\n",
    "2) dictionary\n",
    "3) sets"
   ]
  },
  {
   "cell_type": "code",
   "execution_count": 27,
   "id": "18a0394f",
   "metadata": {},
   "outputs": [
    {
     "name": "stdout",
     "output_type": "stream",
     "text": [
      "3.23e+19 <class 'float'>\n"
     ]
    }
   ],
   "source": [
    "#number\n",
    "i=32.3e18\n",
    "type(i)\n",
    "print(i , type(i))"
   ]
  },
  {
   "cell_type": "code",
   "execution_count": 28,
   "id": "f7010844",
   "metadata": {},
   "outputs": [
    {
     "data": {
      "text/plain": [
       "complex"
      ]
     },
     "execution_count": 28,
     "metadata": {},
     "output_type": "execute_result"
    }
   ],
   "source": [
    "j=3.25j\n",
    "type(j)"
   ]
  },
  {
   "cell_type": "code",
   "execution_count": 30,
   "id": "9a3f4969",
   "metadata": {},
   "outputs": [
    {
     "name": "stdout",
     "output_type": "stream",
     "text": [
      "3.23e+19\n",
      "3.25j\n"
     ]
    }
   ],
   "source": [
    "\n",
    "print(i,j,sep='\\n')"
   ]
  },
  {
   "cell_type": "code",
   "execution_count": 31,
   "id": "d76224a5",
   "metadata": {},
   "outputs": [],
   "source": [
    "#string\n",
    "str1='python is a programming language'"
   ]
  },
  {
   "cell_type": "code",
   "execution_count": 42,
   "id": "5be58b86",
   "metadata": {},
   "outputs": [
    {
     "name": "stdout",
     "output_type": "stream",
     "text": [
      "python is a programming language\n"
     ]
    }
   ],
   "source": [
    "print(str1)"
   ]
  },
  {
   "cell_type": "code",
   "execution_count": 43,
   "id": "49e953b6",
   "metadata": {},
   "outputs": [
    {
     "name": "stdout",
     "output_type": "stream",
     "text": [
      "p\n"
     ]
    }
   ],
   "source": [
    "print(str1[0])"
   ]
  },
  {
   "cell_type": "code",
   "execution_count": 44,
   "id": "26cd6cd5",
   "metadata": {},
   "outputs": [
    {
     "name": "stdout",
     "output_type": "stream",
     "text": [
      "python is a programming language\n"
     ]
    }
   ],
   "source": [
    "print(str1[:])"
   ]
  },
  {
   "cell_type": "code",
   "execution_count": 45,
   "id": "386c0aa7",
   "metadata": {},
   "outputs": [
    {
     "name": "stdout",
     "output_type": "stream",
     "text": [
      "thon is \n"
     ]
    }
   ],
   "source": [
    "print(str1[2:10])"
   ]
  },
  {
   "cell_type": "code",
   "execution_count": 47,
   "id": "4a79df83",
   "metadata": {},
   "outputs": [
    {
     "ename": "TypeError",
     "evalue": "'str' object does not support item assignment",
     "output_type": "error",
     "traceback": [
      "\u001b[1;31m---------------------------------------------------------------------------\u001b[0m",
      "\u001b[1;31mTypeError\u001b[0m                                 Traceback (most recent call last)",
      "\u001b[1;32m<ipython-input-47-6ca691596d9e>\u001b[0m in \u001b[0;36m<module>\u001b[1;34m\u001b[0m\n\u001b[0;32m      1\u001b[0m \u001b[1;31m#updating of a character\u001b[0m\u001b[1;33m\u001b[0m\u001b[1;33m\u001b[0m\u001b[0m\n\u001b[1;32m----> 2\u001b[1;33m \u001b[0mstr1\u001b[0m\u001b[1;33m[\u001b[0m\u001b[1;36m0\u001b[0m\u001b[1;33m]\u001b[0m\u001b[1;33m=\u001b[0m\u001b[1;34m'E'\u001b[0m\u001b[1;33m\u001b[0m\u001b[1;33m\u001b[0m\u001b[0m\n\u001b[0m",
      "\u001b[1;31mTypeError\u001b[0m: 'str' object does not support item assignment"
     ]
    }
   ],
   "source": [
    "#updating of a character\n",
    "str1[0]='E'\n",
    "\n",
    "# as string is immutable so after assinging it can't be update or delete a character\n",
    "# it can be done as a whole "
   ]
  },
  {
   "cell_type": "code",
   "execution_count": 48,
   "id": "a9eafbee",
   "metadata": {},
   "outputs": [
    {
     "ename": "TypeError",
     "evalue": "'str' object doesn't support item deletion",
     "output_type": "error",
     "traceback": [
      "\u001b[1;31m---------------------------------------------------------------------------\u001b[0m",
      "\u001b[1;31mTypeError\u001b[0m                                 Traceback (most recent call last)",
      "\u001b[1;32m<ipython-input-48-9975f0ca896b>\u001b[0m in \u001b[0;36m<module>\u001b[1;34m\u001b[0m\n\u001b[1;32m----> 1\u001b[1;33m \u001b[1;32mdel\u001b[0m \u001b[0mstr1\u001b[0m\u001b[1;33m[\u001b[0m\u001b[1;36m1\u001b[0m\u001b[1;33m]\u001b[0m\u001b[1;33m\u001b[0m\u001b[1;33m\u001b[0m\u001b[0m\n\u001b[0m",
      "\u001b[1;31mTypeError\u001b[0m: 'str' object doesn't support item deletion"
     ]
    }
   ],
   "source": [
    "del str1[1]"
   ]
  },
  {
   "cell_type": "code",
   "execution_count": 49,
   "id": "48328d2b",
   "metadata": {},
   "outputs": [
    {
     "name": "stdout",
     "output_type": "stream",
     "text": [
      "new string\n"
     ]
    }
   ],
   "source": [
    "#updating entire string\n",
    "str1=\"new string\"\n",
    "print(str1)"
   ]
  },
  {
   "cell_type": "code",
   "execution_count": 50,
   "id": "66d4209f",
   "metadata": {},
   "outputs": [],
   "source": [
    "del str1"
   ]
  },
  {
   "cell_type": "code",
   "execution_count": 51,
   "id": "1d3563fc",
   "metadata": {},
   "outputs": [
    {
     "ename": "NameError",
     "evalue": "name 'str1' is not defined",
     "output_type": "error",
     "traceback": [
      "\u001b[1;31m---------------------------------------------------------------------------\u001b[0m",
      "\u001b[1;31mNameError\u001b[0m                                 Traceback (most recent call last)",
      "\u001b[1;32m<ipython-input-51-3a5be569e6ba>\u001b[0m in \u001b[0;36m<module>\u001b[1;34m\u001b[0m\n\u001b[1;32m----> 1\u001b[1;33m \u001b[0mstr1\u001b[0m\u001b[1;33m\u001b[0m\u001b[1;33m\u001b[0m\u001b[0m\n\u001b[0m",
      "\u001b[1;31mNameError\u001b[0m: name 'str1' is not defined"
     ]
    }
   ],
   "source": [
    "str1\n"
   ]
  },
  {
   "cell_type": "code",
   "execution_count": 68,
   "id": "0add9678",
   "metadata": {},
   "outputs": [
    {
     "name": "stdout",
     "output_type": "stream",
     "text": [
      "\\\n",
      "\n",
      "\"\n",
      "\n",
      "'\n",
      "\n",
      "\u0007\n",
      "\n",
      "ab\bc\n",
      "\n",
      "hello\f",
      "world\n",
      "\n",
      "hello\n",
      "world\n"
     ]
    }
   ],
   "source": [
    "print(\"\\\\\")\n",
    "print()\n",
    "print(\"\\\"\")\n",
    "print()\n",
    "print(\"\\'\")\n",
    "print()\n",
    "print(\"\\a\")\n",
    "print()\n",
    "print(\"ab\"+\"\\b\"+\"c\")\n",
    "print()\n",
    "print(\"hello\\fworld\")\n",
    "print()\n",
    "print(\"hello\\nworld\")"
   ]
  },
  {
   "cell_type": "code",
   "execution_count": 79,
   "id": "60cae603",
   "metadata": {},
   "outputs": [
    {
     "name": "stdout",
     "output_type": "stream",
     "text": [
      "†\n",
      "\n",
      "XX_XX\n",
      "\n",
      "\t\t*hello\n",
      "\n",
      "N/A\n",
      "\n",
      "Л\n",
      "\n",
      "#\n",
      "\n",
      "#\n"
     ]
    }
   ],
   "source": [
    "print(u\"\\N{DAGGER}\")\n",
    "print()\n",
    "print(\"123459\\rXX_XX\")\n",
    "print()\n",
    "print(\"\\t\\t*hello\")\n",
    "print()\n",
    "print(\"N/A\")\n",
    "print()\n",
    "print(u\"\\u041b\")\n",
    "print()\n",
    "print(\"\\043\")\n",
    "print()\n",
    "print(\"\\x23\")"
   ]
  },
  {
   "cell_type": "code",
   "execution_count": 82,
   "id": "70b16e58",
   "metadata": {},
   "outputs": [
    {
     "name": "stdout",
     "output_type": "stream",
     "text": [
      "python programming   language\n"
     ]
    }
   ],
   "source": [
    "#string formatting (default order)\n",
    "string1=\"{} {}   {}\".format('python', 'programming',  'language')\n",
    "print(string1) "
   ]
  },
  {
   "cell_type": "code",
   "execution_count": 83,
   "id": "300c09f3",
   "metadata": {},
   "outputs": [
    {
     "name": "stdout",
     "output_type": "stream",
     "text": [
      "myself himani sharma\n"
     ]
    }
   ],
   "source": [
    "#positional formating\n",
    "string2=\"{1} {0} {2}\".format('himani','myself','sharma')\n",
    "print(string2)"
   ]
  },
  {
   "cell_type": "code",
   "execution_count": 84,
   "id": "fa239535",
   "metadata": {},
   "outputs": [
    {
     "name": "stdout",
     "output_type": "stream",
     "text": [
      "himani sharma umesh kharva\n"
     ]
    }
   ],
   "source": [
    "#keyword formating\n",
    "string3=\"{h} {s} {u} {k}\".format(u='umesh',h='himani',s='sharma',k='kharva')\n",
    "print(string3)"
   ]
  },
  {
   "cell_type": "code",
   "execution_count": 85,
   "id": "995fca8a",
   "metadata": {},
   "outputs": [
    {
     "name": "stdout",
     "output_type": "stream",
     "text": [
      "('abcd', 30, 3.4, 100)\n"
     ]
    }
   ],
   "source": [
    "#Tuples\n",
    "tuple1=('abcd',30,3.4,100)\n",
    "print(tuple1)"
   ]
  },
  {
   "cell_type": "code",
   "execution_count": 87,
   "id": "cf46193c",
   "metadata": {},
   "outputs": [
    {
     "name": "stdout",
     "output_type": "stream",
     "text": [
      "abcd\n"
     ]
    }
   ],
   "source": [
    "print(tuple1[0])"
   ]
  },
  {
   "cell_type": "code",
   "execution_count": 88,
   "id": "52edacf4",
   "metadata": {},
   "outputs": [
    {
     "name": "stdout",
     "output_type": "stream",
     "text": [
      "(30, 3.4)\n"
     ]
    }
   ],
   "source": [
    "print(tuple1[1:3])"
   ]
  },
  {
   "cell_type": "code",
   "execution_count": 89,
   "id": "4875acf9",
   "metadata": {},
   "outputs": [
    {
     "name": "stdout",
     "output_type": "stream",
     "text": [
      "(3.4, 100)\n"
     ]
    }
   ],
   "source": [
    "print(tuple1[2:])"
   ]
  },
  {
   "cell_type": "code",
   "execution_count": 90,
   "id": "a0bd9f49",
   "metadata": {},
   "outputs": [
    {
     "name": "stdout",
     "output_type": "stream",
     "text": [
      "('abcd', 30, 3.4, 100, 'abcd', 30, 3.4, 100)\n"
     ]
    }
   ],
   "source": [
    "print(tuple1*2)  #prints tuple content twice"
   ]
  },
  {
   "cell_type": "code",
   "execution_count": 91,
   "id": "62721829",
   "metadata": {},
   "outputs": [
    {
     "name": "stdout",
     "output_type": "stream",
     "text": [
      "('abcd', 30, 3.4, 100, 45, 'himani', 45.467)\n"
     ]
    }
   ],
   "source": [
    "tuple2=(45,'himani',45.467)\n",
    "print(tuple1+tuple2)  #concatenaed tuples"
   ]
  },
  {
   "cell_type": "code",
   "execution_count": 92,
   "id": "9e0e4791",
   "metadata": {},
   "outputs": [
    {
     "ename": "TypeError",
     "evalue": "'tuple' object does not support item assignment",
     "output_type": "error",
     "traceback": [
      "\u001b[1;31m---------------------------------------------------------------------------\u001b[0m",
      "\u001b[1;31mTypeError\u001b[0m                                 Traceback (most recent call last)",
      "\u001b[1;32m<ipython-input-92-b020796173ab>\u001b[0m in \u001b[0;36m<module>\u001b[1;34m\u001b[0m\n\u001b[1;32m----> 1\u001b[1;33m \u001b[0mtuple1\u001b[0m\u001b[1;33m[\u001b[0m\u001b[1;36m2\u001b[0m\u001b[1;33m]\u001b[0m\u001b[1;33m=\u001b[0m\u001b[1;36m1000\u001b[0m\u001b[1;33m\u001b[0m\u001b[1;33m\u001b[0m\u001b[0m\n\u001b[0m",
      "\u001b[1;31mTypeError\u001b[0m: 'tuple' object does not support item assignment"
     ]
    }
   ],
   "source": [
    "tuple1[2]=1000       #bec of it is immutable data type"
   ]
  },
  {
   "cell_type": "code",
   "execution_count": 93,
   "id": "1301b4b4",
   "metadata": {},
   "outputs": [
    {
     "data": {
      "text/plain": [
       "[1, 3, 6, 'acdv', 12.46]"
      ]
     },
     "execution_count": 93,
     "metadata": {},
     "output_type": "execute_result"
    }
   ],
   "source": [
    "#list\n",
    "l=[1,3,6,'acdv',12.46]\n",
    "l"
   ]
  },
  {
   "cell_type": "code",
   "execution_count": 94,
   "id": "31de68a7",
   "metadata": {},
   "outputs": [
    {
     "data": {
      "text/plain": [
       "[1, 3, 6]"
      ]
     },
     "execution_count": 94,
     "metadata": {},
     "output_type": "execute_result"
    }
   ],
   "source": [
    "l[0:3]"
   ]
  },
  {
   "cell_type": "code",
   "execution_count": 95,
   "id": "c04765cf",
   "metadata": {},
   "outputs": [
    {
     "name": "stdout",
     "output_type": "stream",
     "text": [
      "[123, 'sharma', 123, 'sharma', 123, 'sharma']\n",
      "[1, 3, 6, 'acdv', 12.46, 123, 'sharma']\n"
     ]
    }
   ],
   "source": [
    "l2=[123,'sharma']\n",
    "print(l2*3)\n",
    "print(l+l2)"
   ]
  },
  {
   "cell_type": "code",
   "execution_count": 97,
   "id": "7c0b36bf",
   "metadata": {},
   "outputs": [
    {
     "data": {
      "text/plain": [
       "[1, 3, 6, 'himani', 12.46]"
      ]
     },
     "execution_count": 97,
     "metadata": {},
     "output_type": "execute_result"
    }
   ],
   "source": [
    "l[3]='himani'\n",
    "l"
   ]
  },
  {
   "cell_type": "code",
   "execution_count": 106,
   "id": "24044b82",
   "metadata": {},
   "outputs": [
    {
     "name": "stdout",
     "output_type": "stream",
     "text": [
      "enter a number 45\n",
      "45.\n"
     ]
    }
   ],
   "source": [
    "num=int(input(\"enter a number \"))\n",
    "print(num,\"\",sep='.')"
   ]
  },
  {
   "cell_type": "code",
   "execution_count": 108,
   "id": "d10fa5c2",
   "metadata": {},
   "outputs": [
    {
     "name": "stdout",
     "output_type": "stream",
     "text": [
      "enter any sequence1 2 3 4 6 7 89 56 \n"
     ]
    }
   ],
   "source": [
    "n=input(\"enter any sequence\")"
   ]
  },
  {
   "cell_type": "code",
   "execution_count": 109,
   "id": "aca328eb",
   "metadata": {},
   "outputs": [
    {
     "data": {
      "text/plain": [
       "['1', '2', '3', '4', '6', '7', '89', '56']"
      ]
     },
     "execution_count": 109,
     "metadata": {},
     "output_type": "execute_result"
    }
   ],
   "source": [
    "k=n.split()\n",
    "k"
   ]
  },
  {
   "cell_type": "code",
   "execution_count": 74,
   "id": "087ef21d",
   "metadata": {},
   "outputs": [
    {
     "data": {
      "text/plain": [
       "{'one': 'this is python'}"
      ]
     },
     "execution_count": 74,
     "metadata": {},
     "output_type": "execute_result"
    }
   ],
   "source": [
    "#dictionary\n",
    "dict1={}\n",
    "dict1['one']='this is python'\n",
    "dict1"
   ]
  },
  {
   "cell_type": "code",
   "execution_count": 75,
   "id": "368f2729",
   "metadata": {},
   "outputs": [
    {
     "data": {
      "text/plain": [
       "{'one': 'this is python', 2: 'this is java'}"
      ]
     },
     "execution_count": 75,
     "metadata": {},
     "output_type": "execute_result"
    }
   ],
   "source": [
    "dict1[2]='this is java'\n",
    "dict1"
   ]
  },
  {
   "cell_type": "code",
   "execution_count": 76,
   "id": "ad300f59",
   "metadata": {},
   "outputs": [
    {
     "data": {
      "text/plain": [
       "{'name': 'himani', 'id': 12, 'dept': 'cyber'}"
      ]
     },
     "execution_count": 76,
     "metadata": {},
     "output_type": "execute_result"
    }
   ],
   "source": [
    "dict2={'name':'himani','id':12,'dept':'cyber'}\n",
    "dict2"
   ]
  },
  {
   "cell_type": "code",
   "execution_count": 77,
   "id": "9514b264",
   "metadata": {},
   "outputs": [
    {
     "name": "stdout",
     "output_type": "stream",
     "text": [
      "this is java\n",
      "this is python\n",
      "cyber\n"
     ]
    }
   ],
   "source": [
    "print(dict1[2])\n",
    "print(dict1['one'])\n",
    "print(dict2['dept'])"
   ]
  },
  {
   "cell_type": "code",
   "execution_count": 78,
   "id": "9cd577ab",
   "metadata": {},
   "outputs": [
    {
     "name": "stdout",
     "output_type": "stream",
     "text": [
      "dict_keys(['name', 'id', 'dept'])\n",
      "dict_keys(['one', 2])\n"
     ]
    }
   ],
   "source": [
    "print(dict2.keys()) #print all the keys\n",
    "print(dict1.keys())"
   ]
  },
  {
   "cell_type": "code",
   "execution_count": 79,
   "id": "64ad5bb0",
   "metadata": {},
   "outputs": [
    {
     "name": "stdout",
     "output_type": "stream",
     "text": [
      "dict_values(['himani', 12, 'cyber'])\n",
      "<class 'dict'>\n"
     ]
    }
   ],
   "source": [
    "print(dict2.values())#print all the values\n",
    "print(type(dict2))"
   ]
  },
  {
   "cell_type": "code",
   "execution_count": 67,
   "id": "8e233ea3",
   "metadata": {},
   "outputs": [
    {
     "name": "stdout",
     "output_type": "stream",
     "text": [
      "a=  {57, 5, 100, 4}\n",
      "<class 'set'>\n"
     ]
    }
   ],
   "source": [
    "#sets\n",
    "a={5,4,57,100}\n",
    "print(\"a= \",a)\n",
    "print(type(a))"
   ]
  },
  {
   "cell_type": "code",
   "execution_count": 1,
   "id": "fabe8abb",
   "metadata": {},
   "outputs": [
    {
     "name": "stdout",
     "output_type": "stream",
     "text": [
      "count is  0\n",
      "count is  1\n",
      "count is  2\n",
      "count is  3\n",
      "count is  4\n",
      "count is  5\n",
      "count is  6\n",
      "count is  7\n",
      "done!\n"
     ]
    }
   ],
   "source": [
    "#python loops\n",
    "#while loop\n",
    "count=0\n",
    "while(count<8):\n",
    "    print('count is ',count)\n",
    "    count=count+1\n",
    "print(\"done!\")    "
   ]
  },
  {
   "cell_type": "code",
   "execution_count": 3,
   "id": "017ed338",
   "metadata": {},
   "outputs": [
    {
     "name": "stdout",
     "output_type": "stream",
     "text": [
      "0  is less than 4 \n",
      "1  is less than 4 \n",
      "2  is less than 4 \n",
      "3  is less than 4 \n",
      "4  is equal to 4\n"
     ]
    }
   ],
   "source": [
    "#while loop with else\n",
    "count=0\n",
    "while count<4:\n",
    "    print(count, \" is less than 4 \")\n",
    "    count =count+1\n",
    "else:\n",
    "    print(count, \" is equal to 4\")"
   ]
  },
  {
   "cell_type": "code",
   "execution_count": 8,
   "id": "1824a379",
   "metadata": {},
   "outputs": [
    {
     "name": "stdout",
     "output_type": "stream",
     "text": [
      "current letter:  h\n",
      "current letter:  i\n",
      "current letter:  m\n",
      "current letter:  a\n",
      "current letter:  n\n",
      "current letter:  i\n",
      "current letter:   \n",
      "current letter:  s\n",
      "current letter:  h\n",
      "current letter:  a\n",
      "current letter:  r\n",
      "current letter:  m\n",
      "current letter:  a\n"
     ]
    }
   ],
   "source": [
    "for cr in 'himani sharma':\n",
    "    print('current letter: ' ,cr)"
   ]
  },
  {
   "cell_type": "code",
   "execution_count": 9,
   "id": "2d97ffe9",
   "metadata": {},
   "outputs": [
    {
     "name": "stdout",
     "output_type": "stream",
     "text": [
      "current fruit:  banana\n",
      "current fruit:  apple\n",
      "current fruit:  mango\n"
     ]
    }
   ],
   "source": [
    "fruits=['banana','apple','mango']\n",
    "for f in fruits:\n",
    "    print('current fruit: ',f)"
   ]
  },
  {
   "cell_type": "markdown",
   "id": "55bbb809",
   "metadata": {},
   "source": [
    "some python libraries are\n",
    "1. numpy\n",
    "2. pandas\n",
    "3. seaborn\n",
    "4. keras\n",
    "5. matplotlib\n",
    "6. scikit learn\n",
    "7. tensorflow"
   ]
  },
  {
   "cell_type": "code",
   "execution_count": 29,
   "id": "7f1e5313",
   "metadata": {},
   "outputs": [
    {
     "name": "stdout",
     "output_type": "stream",
     "text": [
      "hello,himani\n"
     ]
    }
   ],
   "source": [
    "def greeting(name):\n",
    "    print(\"hello,\" + name)\n",
    "greeting(\"himani\")\n",
    "    "
   ]
  },
  {
   "cell_type": "code",
   "execution_count": 30,
   "id": "6a21c6e0",
   "metadata": {},
   "outputs": [
    {
     "name": "stdout",
     "output_type": "stream",
     "text": [
      "hello, Himani Sharma. good evening!\n"
     ]
    }
   ],
   "source": [
    "def greet(name):\n",
    "    print(\"hello, \" +name+\". good evening!\")\n",
    "greet(\"Himani Sharma\")    "
   ]
  },
  {
   "cell_type": "code",
   "execution_count": 28,
   "id": "dc8d2917",
   "metadata": {},
   "outputs": [
    {
     "name": "stdout",
     "output_type": "stream",
     "text": [
      "value is 10\n",
      "hello mr. himani, Good Evening\n"
     ]
    }
   ],
   "source": [
    "def show(n):\n",
    "    print(\"value is\",n)\n",
    "a=10\n",
    "show(a)\n",
    "\n",
    "def greetings(s):\n",
    "    print(f\"hello mr. {s}, Good Evening\")\n",
    "greetings(\"himani\")     #calling function"
   ]
  },
  {
   "cell_type": "code",
   "execution_count": 33,
   "id": "c2018f2d",
   "metadata": {},
   "outputs": [
    {
     "name": "stdout",
     "output_type": "stream",
     "text": [
      "5\n",
      "8\n"
     ]
    }
   ],
   "source": [
    "def value(num):\n",
    "    if num>=0:\n",
    "        return num\n",
    "    else:\n",
    "        return -num -(-4)\n",
    "a=-1\n",
    "b=8\n",
    "\n",
    "print(value(a))\n",
    "print(value(b))"
   ]
  },
  {
   "cell_type": "code",
   "execution_count": 40,
   "id": "def67e69",
   "metadata": {},
   "outputs": [
    {
     "name": "stdout",
     "output_type": "stream",
     "text": [
      "value of outside function 20\n",
      "value of inside function 155\n"
     ]
    }
   ],
   "source": [
    "def test1():\n",
    "    a=155\n",
    "    print(\"value of inside function\",a)\n",
    "a=20\n",
    "\n",
    "print(\"value of outside function\",a)\n",
    "test1()"
   ]
  },
  {
   "cell_type": "code",
   "execution_count": 46,
   "id": "bc40a538",
   "metadata": {},
   "outputs": [
    {
     "name": "stdout",
     "output_type": "stream",
     "text": [
      "hello himani sharma,how r u\n"
     ]
    }
   ],
   "source": [
    "def greet(msg,name):\n",
    "    print('hello',name+','+msg)\n",
    "    \n",
    "greet('how r u','himani sharma')   #python default argument\n"
   ]
  },
  {
   "cell_type": "code",
   "execution_count": 48,
   "id": "b46eb7c7",
   "metadata": {},
   "outputs": [
    {
     "name": "stdout",
     "output_type": "stream",
     "text": [
      "hello sharma,how do u do!!!!!\n"
     ]
    }
   ],
   "source": [
    "greet(name='sharma',msg='how do u do!!!!!')  #python keyword argument"
   ]
  },
  {
   "cell_type": "code",
   "execution_count": 49,
   "id": "5cb24066",
   "metadata": {},
   "outputs": [
    {
     "name": "stdout",
     "output_type": "stream",
     "text": [
      "hello ('himani', 'payal', 'umesh', 'sidhhi')\n"
     ]
    }
   ],
   "source": [
    "#python arbitrary argument\n",
    "def greet(*name):\n",
    "    print('hello', name )\n",
    "greet('himani','payal','umesh','sidhhi')    "
   ]
  },
  {
   "cell_type": "code",
   "execution_count": 57,
   "id": "076fe0bc",
   "metadata": {},
   "outputs": [
    {
     "name": "stdout",
     "output_type": "stream",
     "text": [
      "enter the year: 2024\n",
      "leap year\n"
     ]
    }
   ],
   "source": [
    "#lambda expression  (lambda function are syntactically restricted to a single ecpression)\n",
    "n=int(input('enter the year: '))\n",
    "leap=lambda y:(y%4==0 and y%100!=0) or y%400==0\n",
    "if leap(n):\n",
    "    print(\"leap year\")\n",
    "else:\n",
    "    print(\"not leap year\")"
   ]
  },
  {
   "cell_type": "code",
   "execution_count": 61,
   "id": "90148610",
   "metadata": {},
   "outputs": [
    {
     "name": "stdout",
     "output_type": "stream",
     "text": [
      "negative\n"
     ]
    }
   ],
   "source": [
    "num=0\n",
    "if num>0:\n",
    "    print( \"is positive\")\n",
    "else:\n",
    "    print(\"negative\")\n",
    "   "
   ]
  },
  {
   "cell_type": "code",
   "execution_count": 63,
   "id": "86841705",
   "metadata": {},
   "outputs": [
    {
     "name": "stdout",
     "output_type": "stream",
     "text": [
      "inside else\n"
     ]
    }
   ],
   "source": [
    "c=0\n",
    "while c<3:\n",
    "    if c==1:\n",
    "        break\n",
    "    print(\"inside loop\")\n",
    "    c=c+1\n",
    "else:\n",
    "    print(\"inside else\")"
   ]
  },
  {
   "cell_type": "code",
   "execution_count": 65,
   "id": "e9bd85f3",
   "metadata": {},
   "outputs": [
    {
     "name": "stdout",
     "output_type": "stream",
     "text": [
      "p y t h o n "
     ]
    }
   ],
   "source": [
    "for i in 'python':\n",
    "    print(i,end=' ')"
   ]
  },
  {
   "cell_type": "code",
   "execution_count": 66,
   "id": "76357a74",
   "metadata": {},
   "outputs": [
    {
     "name": "stdout",
     "output_type": "stream",
     "text": [
      "1 \n",
      "2 3 \n",
      "4 5 6 \n",
      "7 8 9 10 \n",
      "11 12 13 14 15 \n"
     ]
    }
   ],
   "source": [
    "n=5\n",
    "i=1\n",
    "for row in range(1,n+1):\n",
    "    for col in range(1,row+1):\n",
    "        print(i,end=\" \")\n",
    "        i+=1\n",
    "    print()    "
   ]
  },
  {
   "cell_type": "code",
   "execution_count": 4,
   "id": "a11bcf49",
   "metadata": {},
   "outputs": [
    {
     "name": "stdout",
     "output_type": "stream",
     "text": [
      "23Himani@Sharma2002#\n",
      "Alphabets: 12, Special Characters: 2, Digits: 6\n"
     ]
    }
   ],
   "source": [
    "st=input()\n",
    "a,d,s,i=0,0,0,0\n",
    "for ch in st:\n",
    "    if (ch>='a' and ch<='z') or (ch>='A' and ch<='Z'):\n",
    "        a=a+1\n",
    "    elif ch>='0' and ch<='9':\n",
    "        d=d+1\n",
    "    else:\n",
    "        s=s+1\n",
    "    i=i+1\n",
    "print(\"Alphabets: %d, Special Characters: %d, Digits: %d\" % (a,s,d))    \n",
    "    "
   ]
  },
  {
   "cell_type": "code",
   "execution_count": 8,
   "id": "08739dca",
   "metadata": {},
   "outputs": [
    {
     "name": "stdout",
     "output_type": "stream",
     "text": [
      "Actual String is:  I love My India  \n",
      "\n",
      "length: 17\n",
      "\n",
      "stripped string: I love My India\n",
      "\n",
      "length: 15\n",
      "\n",
      "Upper case: I LOVE MY INDIA\n",
      "\n",
      "Lower case: i love my india\n",
      "\n",
      "title case: I Love My India\n",
      "\n",
      "capitalize case: I love my india\n",
      "\n",
      "['I', 'love', 'My', 'India']\n",
      "\n",
      "I love My India\n",
      "\n"
     ]
    }
   ],
   "source": [
    "s=\"I love My India  \"\n",
    "print(\"Actual String is: \",s)\n",
    "print()\n",
    "print(\"length:\",len(s))\n",
    "print()\n",
    "s=s.strip()\n",
    "print(\"stripped string:\",s)\n",
    "print()\n",
    "print(\"length:\",len(s))\n",
    "print()\n",
    "print(\"Upper case:\",s.upper())\n",
    "print()\n",
    "print(\"Lower case:\",s.lower())\n",
    "print()\n",
    "print(\"title case:\",s.title())\n",
    "print()\n",
    "print(\"capitalize case:\",s.capitalize())\n",
    "print()\n",
    "t=s.split()\n",
    "print(t)\n",
    "print()\n",
    "k=\" \".join(t)\n",
    "print(k)\n",
    "print()\n"
   ]
  },
  {
   "cell_type": "markdown",
   "id": "a0c7d440",
   "metadata": {},
   "source": [
    "more basic string functions are\n",
    "1. swapcase()\n",
    "2. isalpha()\n",
    "3. isdigit()\n",
    "4. isupper()\n",
    "5. islower()\n",
    "6. istitle()\n",
    "7. strip()\n",
    "8. split()\n",
    "9. join()\n",
    "10. upper()\n",
    "11. lower()\n",
    "12. title()\n",
    "13. capitalize()"
   ]
  },
  {
   "cell_type": "code",
   "execution_count": 6,
   "id": "27a2769a",
   "metadata": {},
   "outputs": [
    {
     "name": "stdout",
     "output_type": "stream",
     "text": [
      "10 equals to 2 * 5\n",
      "12 equals to 2 * 6\n",
      "14 equals to 2 * 7\n",
      "16 equals to 2 * 8\n",
      "18 equals to 2 * 9\n",
      "20 equals to 2 * 10\n",
      "22 equals to 2 * 11\n",
      "24 equals to 2 * 12\n",
      "26 equals to 2 * 13\n",
      "28 equals to 2 * 14\n"
     ]
    }
   ],
   "source": [
    "for num in range(10,30):\n",
    "    for i in range(2,num):\n",
    "        if num%i==0:\n",
    "            j=num/i\n",
    "            print('%d equals to %d * %d'% (num,i,j))\n",
    "        break\n",
    "    else:\n",
    "        print(num,'is a prime number')\n",
    "        break\n",
    "\n"
   ]
  },
  {
   "cell_type": "code",
   "execution_count": null,
   "id": "4aea26cb",
   "metadata": {},
   "outputs": [],
   "source": []
  }
 ],
 "metadata": {
  "kernelspec": {
   "display_name": "Python 3",
   "language": "python",
   "name": "python3"
  },
  "language_info": {
   "codemirror_mode": {
    "name": "ipython",
    "version": 3
   },
   "file_extension": ".py",
   "mimetype": "text/x-python",
   "name": "python",
   "nbconvert_exporter": "python",
   "pygments_lexer": "ipython3",
   "version": "3.9.7"
  }
 },
 "nbformat": 4,
 "nbformat_minor": 5
}
