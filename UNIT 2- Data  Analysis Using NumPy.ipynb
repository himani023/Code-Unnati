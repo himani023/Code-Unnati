{
 "cells": [
  {
   "cell_type": "markdown",
   "id": "c3d14903",
   "metadata": {},
   "source": [
    "* NumPy is an open source python library used for working with arrays, linear algebra, fourier transform and matrices\n",
    "\n",
    "* for the fast computation most of python library are written in c and c++ "
   ]
  },
  {
   "cell_type": "code",
   "execution_count": 1,
   "id": "68ca08e7",
   "metadata": {},
   "outputs": [],
   "source": [
    "import numpy as np"
   ]
  },
  {
   "cell_type": "code",
   "execution_count": 2,
   "id": "38ed9495",
   "metadata": {},
   "outputs": [
    {
     "name": "stdout",
     "output_type": "stream",
     "text": [
      "[1 2 3 4 5]\n",
      "<class 'numpy.ndarray'>\n"
     ]
    }
   ],
   "source": [
    "arr=np.array([1,2,3,4,5])\n",
    "print(arr)\n",
    "print(type(arr))"
   ]
  },
  {
   "cell_type": "code",
   "execution_count": 12,
   "id": "1c19f724",
   "metadata": {},
   "outputs": [
    {
     "name": "stdout",
     "output_type": "stream",
     "text": [
      "max element: 5\n",
      "min element: 1\n",
      "mean of array: 3.0\n",
      "median of array: 3.0\n",
      "point to point of array: 4\n",
      "variable of array: 2.0\n",
      "standard deviation of array: 1\n",
      "square root: [1.         1.41421356 1.73205081 2.         2.23606798]\n"
     ]
    }
   ],
   "source": [
    "print('max element:',np.max(arr))\n",
    "print('min element:', np.min(arr))\n",
    "print('mean of array:', np.mean(arr))\n",
    "print('median of array:', np.median(arr))\n",
    "print('point to point of array:', np.ptp(arr))\n",
    "print('variable of array:', np.var(arr))\n",
    "print('standard deviation of array:', np.min(arr))\n",
    "print('square root:', np.sqrt(arr))\n",
    "print('min element:', np.min(arr))"
   ]
  },
  {
   "cell_type": "code",
   "execution_count": 194,
   "id": "11dfae7d",
   "metadata": {},
   "outputs": [
    {
     "data": {
      "text/plain": [
       "array([ 4, 10, 18])"
      ]
     },
     "execution_count": 194,
     "metadata": {},
     "output_type": "execute_result"
    }
   ],
   "source": [
    "#multiplying array\n",
    "s=np.array([1,2,3])\n",
    "t=np.array([4,5,6])\n",
    "s*t"
   ]
  },
  {
   "cell_type": "code",
   "execution_count": 196,
   "id": "636c2e45",
   "metadata": {},
   "outputs": [
    {
     "data": {
      "text/plain": [
       "array([ 2.5,  7. , 13.5])"
      ]
     },
     "execution_count": 196,
     "metadata": {},
     "output_type": "execute_result"
    }
   ],
   "source": [
    "from numpy import array\n",
    "u=array([2.5,3.5,4.5])\n",
    "v=array([1,2,3])\n",
    "u*v"
   ]
  },
  {
   "cell_type": "code",
   "execution_count": 201,
   "id": "28915a0a",
   "metadata": {},
   "outputs": [
    {
     "data": {
      "text/plain": [
       "array([90,  4,  2])"
      ]
     },
     "execution_count": 201,
     "metadata": {},
     "output_type": "execute_result"
    }
   ],
   "source": [
    "from numpy import array\n",
    "w=array([45,2,1])\n",
    "x=2\n",
    "w*x\n"
   ]
  },
  {
   "cell_type": "code",
   "execution_count": 206,
   "id": "a2dabe96",
   "metadata": {},
   "outputs": [
    {
     "name": "stdout",
     "output_type": "stream",
     "text": [
      "along first axis:\n",
      " [[ 45   1]\n",
      " [121   9]]\n",
      "along last axis:\n",
      " [[ 5 44]\n",
      " [23 59]]\n",
      "along none axis:\n",
      " [ 1  8 24 67]\n"
     ]
    }
   ],
   "source": [
    "#sorting array\n",
    "\n",
    "#sort along first axis\n",
    "y=np.array([[121,1],[45,9]])\n",
    "\n",
    "print('along first axis:\\n',np.sort(y,axis=0))\n",
    "\n",
    "#sort along last axis\n",
    "z=np.array([[44,5],[59,23]])\n",
    "\n",
    "print('along last axis:\\n',np.sort(z,axis=-1))\n",
    "\n",
    "#along none\n",
    "z=np.array([[1,24],[67,8]])\n",
    "print('along none axis:\\n', np.sort(z,axis=None))\n"
   ]
  },
  {
   "cell_type": "code",
   "execution_count": 30,
   "id": "e9d8357b",
   "metadata": {},
   "outputs": [
    {
     "data": {
      "text/plain": [
       "array([[ 2,  3,  4,  5],\n",
       "       [56, 67, 78, 89]])"
      ]
     },
     "execution_count": 30,
     "metadata": {},
     "output_type": "execute_result"
    }
   ],
   "source": [
    "import numpy as np\n",
    "a=np.array([[2,3,4,5],[56,67,78,89]])\n",
    "a"
   ]
  },
  {
   "cell_type": "code",
   "execution_count": 81,
   "id": "d1f273ba",
   "metadata": {},
   "outputs": [
    {
     "name": "stdout",
     "output_type": "stream",
     "text": [
      "order of matrix is: (2, 4)\n",
      "dimension of array: 2\n",
      "<class 'numpy.ndarray'>\n",
      "sum: 304\n"
     ]
    }
   ],
   "source": [
    "print('order of matrix is:',a.shape)\n",
    "print('dimension of array:',a.ndim)\n",
    "print(type(a))\n",
    "print('sum:',np.sum(a) )"
   ]
  },
  {
   "cell_type": "code",
   "execution_count": 42,
   "id": "418099bc",
   "metadata": {},
   "outputs": [
    {
     "name": "stdout",
     "output_type": "stream",
     "text": [
      "<memory at 0x000001BC99080AD0>\n"
     ]
    }
   ],
   "source": [
    "print(a.data)"
   ]
  },
  {
   "cell_type": "code",
   "execution_count": 80,
   "id": "b63037cc",
   "metadata": {},
   "outputs": [
    {
     "name": "stdout",
     "output_type": "stream",
     "text": [
      "[[20 21 22]\n",
      " [23 24 25]\n",
      " [26 27 28]] \n",
      "\n",
      "data type of array:  int32\n",
      "size of array: 9\n",
      "dimension of array: 2\n",
      "shape of array: (3, 3)\n",
      "number of byte of each item is: 4\n",
      "sum: 216\n"
     ]
    }
   ],
   "source": [
    "b=np.array([[20,21,22],[23,24,25],[26,27,28]])\n",
    "print(b,'\\n')\n",
    "print('data type of array: ',b.dtype)\n",
    "print('size of array:',b.size)\n",
    "print('dimension of array:',b.ndim)\n",
    "print('shape of array:',b.shape)\n",
    "print('number of byte of each item is:',b.itemsize)\n",
    "print('sum:',np.sum(b) )"
   ]
  },
  {
   "cell_type": "code",
   "execution_count": 79,
   "id": "9feb5e98",
   "metadata": {},
   "outputs": [
    {
     "name": "stdout",
     "output_type": "stream",
     "text": [
      "[['h']\n",
      " ['i']\n",
      " ['m']\n",
      " ['a']\n",
      " ['n']\n",
      " ['i']]\n",
      "\n",
      "number of byte of each item 4\n",
      "shape of array (6, 1)\n"
     ]
    }
   ],
   "source": [
    "c=np.array([['h'],['i'],['m'],['a'],['n'],['i']])\n",
    "print(c)\n",
    "print()\n",
    "print('number of byte of each item',c.itemsize)\n",
    "print('shape of array',c.shape)\n"
   ]
  },
  {
   "cell_type": "code",
   "execution_count": 77,
   "id": "a6d600f8",
   "metadata": {},
   "outputs": [
    {
     "name": "stdout",
     "output_type": "stream",
     "text": [
      "[[ 2.3  3.5  3.4]\n",
      " [ 2.3  2.3  5.6]\n",
      " [ 8.7  7.8 78.8]]\n",
      "\n",
      "number of bytes of each element: 8\n",
      "shape of array (3, 3)\n",
      "sum: 114.69999999999999\n"
     ]
    }
   ],
   "source": [
    "d=np.array([[2.3,3.5,3.4],[2.3,2.3,5.6],[8.7,7.8,78.8]])\n",
    "print(d)\n",
    "print()\n",
    "print('number of bytes of each element:',d.itemsize)\n",
    "print('shape of array',d.shape)\n",
    "print('sum:',np.sum(d) )"
   ]
  },
  {
   "cell_type": "code",
   "execution_count": 76,
   "id": "0e57af01",
   "metadata": {},
   "outputs": [
    {
     "name": "stdout",
     "output_type": "stream",
     "text": [
      "[[ 80.+0.j 345.+0.j  46.+0.j]\n",
      " [ 12.+0.j  34.+0.j  56.+0.j]\n",
      " [ 67.+0.j  87.+0.j  45.+0.j]]\n",
      "\n",
      "size of array: 9\n",
      "byte of each item: 8\n",
      "data type: complex64\n",
      "shape of array: (3, 3)\n",
      "dimension of array: 2\n",
      "sum: (772+0j)\n"
     ]
    }
   ],
   "source": [
    "e=np.array([[80,345,46],[12,34,56],[67,87,45]],dtype=np.complex64)\n",
    "print(e)\n",
    "print()\n",
    "print('size of array:',e.size)\n",
    "print('byte of each item:',e.itemsize)\n",
    "print('data type:',e.dtype)\n",
    "print('shape of array:',e.shape)\n",
    "print('dimension of array:',e.ndim)\n",
    "print('sum:',np.sum(f) )"
   ]
  },
  {
   "cell_type": "code",
   "execution_count": 75,
   "id": "4418514d",
   "metadata": {},
   "outputs": [
    {
     "name": "stdout",
     "output_type": "stream",
     "text": [
      "[[ 80.+0.j 345.+0.j  46.+0.j]\n",
      " [ 12.+0.j  34.+0.j  56.+0.j]\n",
      " [ 67.+0.j  87.+0.j  45.+0.j]]\n",
      "\n",
      "size of array: 9\n",
      "byte of each item: 16\n",
      "data type: complex128\n",
      "shape of array: (3, 3)\n",
      "dimension of array: 2\n",
      "sum: (772+0j)\n"
     ]
    }
   ],
   "source": [
    "f=np.array([[80,345,46],[12,34,56],[67,87,45]],dtype=np.complex128)\n",
    "print(f)\n",
    "print()\n",
    "print('size of array:',f.size)\n",
    "print('byte of each item:',f.itemsize)\n",
    "print('data type:',f.dtype)\n",
    "print('shape of array:',f.shape)\n",
    "print('dimension of array:',f.ndim)\n",
    "print('sum:',np.sum(f) )"
   ]
  },
  {
   "cell_type": "code",
   "execution_count": 94,
   "id": "60d21533",
   "metadata": {},
   "outputs": [
    {
     "name": "stdout",
     "output_type": "stream",
     "text": [
      "[[12. 23. 45.]\n",
      " [45. 56. 88.]\n",
      " [67. 89.  9.]]\n"
     ]
    }
   ],
   "source": [
    "g=np.array([[12,23,45],[45,56,88],[67,89,9]],dtype=np.float64)\n",
    "print(g)"
   ]
  },
  {
   "cell_type": "code",
   "execution_count": 95,
   "id": "f5fdb083",
   "metadata": {},
   "outputs": [
    {
     "name": "stdout",
     "output_type": "stream",
     "text": [
      "min value 9.0\n",
      "min value in a col [12. 23.  9.]\n",
      "min value in a row [12. 45.  9.]\n",
      "\n",
      "max value 89.0\n",
      "max value in a col [67. 89. 88.]\n",
      "max value in a row [45. 88. 89.]\n",
      "\n",
      "mean of array 48.22222222222222\n",
      "mean of each col of array [41.33333333 56.         47.33333333]\n",
      "mean of each row of array [26.66666667 63.         55.        ]\n",
      "\n",
      "sum: 434.0\n",
      "sum of each col [124. 168. 142.]\n",
      "sum of each row [ 80. 189. 165.]\n"
     ]
    }
   ],
   "source": [
    "#min value\n",
    "print('min value',np.min(g))\n",
    "print('min value in a col',np.min(g,axis=0))\n",
    "print('min value in a row',np.min(g,axis=1))\n",
    "#max value\n",
    "print()\n",
    "print('max value',np.max(g))\n",
    "print('max value in a col',np.max(g,axis=0))\n",
    "print('max value in a row',np.max(g,axis=1))\n",
    "\n",
    "#mean of array\n",
    "print()\n",
    "print('mean of array',np.mean(g))\n",
    "print('mean of each col of array',np.mean(g,axis=0))\n",
    "print('mean of each row of array',np.mean(g,axis=1))\n",
    "\n",
    "#sum\n",
    "print()\n",
    "print('sum:',np.sum(g))\n",
    "print('sum of each col',np.sum(g,axis=0))  #col\n",
    "print('sum of each row',np.sum(g,axis=1)) #rows"
   ]
  },
  {
   "cell_type": "code",
   "execution_count": 98,
   "id": "dfad96e4",
   "metadata": {},
   "outputs": [
    {
     "name": "stdout",
     "output_type": "stream",
     "text": [
      "average 48.22222222222222\n",
      "average of each col [41.33333333 56.         47.33333333]\n",
      "average of each row [26.66666667 63.         55.        ]\n",
      "\n",
      "standard deviation: 28.216534860010235\n",
      "standard deviation of each col [22.60285134 26.94438717 32.29379025]\n",
      "standard deviation of each rows [13.71941042 18.23915203 33.74413529]\n",
      "\n",
      "variance 796.1728395061729\n",
      "variance of each col [ 510.88888889  726.         1042.88888889]\n",
      "variance of each row [ 188.22222222  332.66666667 1138.66666667]\n"
     ]
    }
   ],
   "source": [
    "#average\n",
    "print('average',np.average(g))\n",
    "print('average of each col',np.average(g,axis=0))\n",
    "print('average of each row',np.average(g,axis=1))\n",
    "\n",
    "#standard deviation\n",
    "print()\n",
    "print('standard deviation:',np.std(g))\n",
    "print('standard deviation of each col',np.std(g,axis=0))\n",
    "print('standard deviation of each rows',np.std(g,axis=1))\n",
    "\n",
    "#variance \n",
    "print()\n",
    "print('variance',np.var(g))\n",
    "print('variance of each col',np.var(g,axis=0))\n",
    "print('variance of each row',np.var(g,axis=1))"
   ]
  },
  {
   "cell_type": "code",
   "execution_count": 156,
   "id": "c190ddc1",
   "metadata": {},
   "outputs": [
    {
     "name": "stdout",
     "output_type": "stream",
     "text": [
      "h= [ 2  3  4  6  7  8  0  8  5 44]\n",
      "\n",
      "i= [12 23 34 45 56 67 78 89 90 34]\n",
      "\n",
      "7.736742424242424\n",
      "\n",
      "mean of h 8.7\n",
      "mean of i 52.8\n",
      "dimension of h: 1\n",
      "sorted array h- [ 0  2  3  4  5  6  7  8  8 44]\n",
      "sorted array i- [12 23 34 34 45 56 67 78 89 90]\n"
     ]
    }
   ],
   "source": [
    "h=np.array([2,3,4,6,7,8,0,8,5,44])\n",
    "print('h=',h)\n",
    "print()\n",
    "i=np.array([12,23,34,45,56,67,78,89,90,34])\n",
    "print('i=',i)\n",
    "print()\n",
    "print(np.average(h,weights=i))\n",
    "print()\n",
    "print('mean of h',np.mean(h))\n",
    "print('mean of i',np.mean(i))\n",
    "print('dimension of h:',h.ndim)\n",
    "print('sorted array h-',np.sort(h))\n",
    "print('sorted array i-',np.sort(i))"
   ]
  },
  {
   "cell_type": "code",
   "execution_count": 117,
   "id": "3528fb7b",
   "metadata": {},
   "outputs": [
    {
     "name": "stdout",
     "output_type": "stream",
     "text": [
      "[[2 3 4]\n",
      " [6 7 8]]\n",
      "mean of i: 5.0\n",
      "\n",
      "percentile: 8.0\n",
      "percentile of each col: [6. 7. 8.]\n",
      "percentile of each row: [4. 8.]\n",
      "\n",
      "peek to peek: [4 4 4]\n",
      "peek to peek: [2 2]\n"
     ]
    }
   ],
   "source": [
    "j=np.array([[2,3,4],[6,7,8]])\n",
    "print(j)\n",
    "print('mean of i:',np.mean(j))\n",
    "\n",
    "#percentile\n",
    "print()\n",
    "print('percentile:',np.percentile(j,100))\n",
    "print('percentile of each col:',np.percentile(j,100,0))\n",
    "print('percentile of each row:',np.percentile(j,100,1))\n",
    "print()\n",
    "\n",
    "#peek to peek\n",
    "print('peek to peek col:',np.ptp(j,0))  #here max value-min value =ptp\n",
    "print('peek to peek row:',np.ptp(j,1))"
   ]
  },
  {
   "cell_type": "markdown",
   "id": "f37f4ac3",
   "metadata": {},
   "source": [
    "* interquatile\n",
    "* first quartile(Q1) is equal to the median of the n smallest entries\n",
    "* third quartile(Q3) is equal to the median of the n largest entries\n",
    "* second quartile(Q2) is the same as the ordinary median\n",
    "* range is difference between the largest value and the smallest value in data set\n",
    "* interquatile range is the difference between the Q3 and Q1 (it cover the center of the distribution and contain 50% of the observations)\n",
    "  "
   ]
  },
  {
   "cell_type": "code",
   "execution_count": 192,
   "id": "c6b48ae5",
   "metadata": {},
   "outputs": [
    {
     "name": "stdout",
     "output_type": "stream",
     "text": [
      "21.0\n"
     ]
    }
   ],
   "source": [
    "import numpy as np\n",
    "data=[23,34,45,67,78,990,7,45,56,34,56,76]\n",
    "\n",
    "#first quartile \n",
    "Q1=np.median(data[:10])\n",
    "\n",
    "#third quartile\n",
    "Q3=np.median(data[10:])\n",
    "\n",
    "#interquatile\n",
    "IQR=Q3-Q1\n",
    "\n",
    "print(IQR)"
   ]
  },
  {
   "cell_type": "code",
   "execution_count": 193,
   "id": "cbd6d671",
   "metadata": {},
   "outputs": [
    {
     "name": "stdout",
     "output_type": "stream",
     "text": [
      "48.5\n"
     ]
    }
   ],
   "source": [
    "#interquatile range using numpy.percentile\n",
    "import numpy as np\n",
    "data=[12,23,4,56,67,78,45,34,23,34,45,56,67,67,45,3,4,7,8,6]\n",
    "\n",
    "Q1=np.percentile(data,25,interpolation='midpoint')\n",
    "Q3=np.percentile(data,75, interpolation='midpoint')\n",
    "IQR=Q3-Q1\n",
    "\n",
    "print(IQR)"
   ]
  },
  {
   "cell_type": "code",
   "execution_count": 122,
   "id": "ecee7965",
   "metadata": {},
   "outputs": [
    {
     "name": "stdout",
     "output_type": "stream",
     "text": [
      "[[1 2 3 4]\n",
      " [5 6 7 8]]\n",
      "\n",
      "order of array (2, 4)\n",
      "\n",
      "reshaping the array:\n",
      " [[1 2]\n",
      " [3 4]\n",
      " [5 6]\n",
      " [7 8]]\n"
     ]
    }
   ],
   "source": [
    "k=np.array([[1,2,3,4],[5,6,7,8]])\n",
    "print(k)\n",
    "print()\n",
    "print('order of array',k.shape)\n",
    "print()\n",
    "print('reshaping the array:\\n',k.reshape(4,2))\n"
   ]
  },
  {
   "cell_type": "code",
   "execution_count": 124,
   "id": "1269200d",
   "metadata": {},
   "outputs": [
    {
     "name": "stdout",
     "output_type": "stream",
     "text": [
      "[[   1   10  100 1000]\n",
      " [   2   20  200 2000]\n",
      " [   3   30  300 3000]]\n"
     ]
    }
   ],
   "source": [
    "#slicing\n",
    "l= np.array([[1,10,100,1000],[2,20,200,2000],[3,30,300,3000]])\n",
    "print(l)"
   ]
  },
  {
   "cell_type": "code",
   "execution_count": 125,
   "id": "2854b5ba",
   "metadata": {},
   "outputs": [
    {
     "data": {
      "text/plain": [
       "100"
      ]
     },
     "execution_count": 125,
     "metadata": {},
     "output_type": "execute_result"
    }
   ],
   "source": [
    "l[0,2] #[row,col]"
   ]
  },
  {
   "cell_type": "code",
   "execution_count": 128,
   "id": "b58de565",
   "metadata": {},
   "outputs": [
    {
     "data": {
      "text/plain": [
       "3000"
      ]
     },
     "execution_count": 128,
     "metadata": {},
     "output_type": "execute_result"
    }
   ],
   "source": [
    "l[2,3]"
   ]
  },
  {
   "cell_type": "code",
   "execution_count": 129,
   "id": "6d330b4b",
   "metadata": {},
   "outputs": [
    {
     "data": {
      "text/plain": [
       "array([   3,   30,  300, 3000])"
      ]
     },
     "execution_count": 129,
     "metadata": {},
     "output_type": "execute_result"
    }
   ],
   "source": [
    "l[-1]"
   ]
  },
  {
   "cell_type": "code",
   "execution_count": 130,
   "id": "a42da429",
   "metadata": {},
   "outputs": [
    {
     "data": {
      "text/plain": [
       "array([   2,   20,  200, 2000])"
      ]
     },
     "execution_count": 130,
     "metadata": {},
     "output_type": "execute_result"
    }
   ],
   "source": [
    "l[-2]"
   ]
  },
  {
   "cell_type": "code",
   "execution_count": 131,
   "id": "dcc431bd",
   "metadata": {},
   "outputs": [
    {
     "data": {
      "text/plain": [
       "array([   1,   10,  100, 1000])"
      ]
     },
     "execution_count": 131,
     "metadata": {},
     "output_type": "execute_result"
    }
   ],
   "source": [
    "l[0]"
   ]
  },
  {
   "cell_type": "code",
   "execution_count": 132,
   "id": "c5fb4284",
   "metadata": {},
   "outputs": [
    {
     "data": {
      "text/plain": [
       "array([   1,   10,  100, 1000])"
      ]
     },
     "execution_count": 132,
     "metadata": {},
     "output_type": "execute_result"
    }
   ],
   "source": [
    "l[-3]"
   ]
  },
  {
   "cell_type": "code",
   "execution_count": 133,
   "id": "fe74d4ac",
   "metadata": {},
   "outputs": [
    {
     "data": {
      "text/plain": [
       "array([ 3, 30])"
      ]
     },
     "execution_count": 133,
     "metadata": {},
     "output_type": "execute_result"
    }
   ],
   "source": [
    "l[-1,0:2]"
   ]
  },
  {
   "cell_type": "code",
   "execution_count": 134,
   "id": "2f21efb9",
   "metadata": {},
   "outputs": [
    {
     "data": {
      "text/plain": [
       "array([1000, 2000])"
      ]
     },
     "execution_count": 134,
     "metadata": {},
     "output_type": "execute_result"
    }
   ],
   "source": [
    "l[0:2,-1] "
   ]
  },
  {
   "cell_type": "code",
   "execution_count": 135,
   "id": "f904df18",
   "metadata": {},
   "outputs": [
    {
     "name": "stdout",
     "output_type": "stream",
     "text": [
      "[[1 2 3]\n",
      " [4 5 6]\n",
      " [7 8 9]] \n",
      "\n",
      " [[10 20 30]\n",
      " [40 50 60]\n",
      " [70 80 90]]\n"
     ]
    }
   ],
   "source": [
    "#stacking\n",
    "\n",
    "m=np.array([[1,2,3],[4,5,6],[7,8,9]])\n",
    "n=np.array([[10,20,30],[40,50,60],[70,80,90]])\n",
    "print(m,'\\n\\n',n)"
   ]
  },
  {
   "cell_type": "code",
   "execution_count": 140,
   "id": "5074d3e2",
   "metadata": {},
   "outputs": [
    {
     "name": "stdout",
     "output_type": "stream",
     "text": [
      "[[[10 20 30]\n",
      "  [40 50 60]\n",
      "  [70 80 90]]\n",
      "\n",
      " [[ 1  2  3]\n",
      "  [ 4  5  6]\n",
      "  [ 7  8  9]]]\n"
     ]
    }
   ],
   "source": [
    "print(np.stack((n,m)))\n"
   ]
  },
  {
   "cell_type": "code",
   "execution_count": 165,
   "id": "ac7b7d87",
   "metadata": {},
   "outputs": [
    {
     "name": "stdout",
     "output_type": "stream",
     "text": [
      "[0.93428975 0.48619002]\n"
     ]
    }
   ],
   "source": [
    "#random number generator using numpy\n",
    "from numpy import random\n",
    "o=random.rand(2)            #for float numbers\n",
    "#o=random.randint(50)       #for int numbers\n",
    "\n",
    "print(o)"
   ]
  },
  {
   "cell_type": "code",
   "execution_count": 174,
   "id": "0aa1b88a",
   "metadata": {},
   "outputs": [
    {
     "name": "stdout",
     "output_type": "stream",
     "text": [
      "[[75  1 74 94 18]\n",
      " [14 39 44 36 53]\n",
      " [64 75 20 53 25]]\n"
     ]
    }
   ],
   "source": [
    "#generate random array\n",
    "from numpy import random\n",
    "#p=random.randint(50, size=(6))      # 1-D aray\n",
    "p=random.randint(100,size=(3,5))    # 2-D array\n",
    "print(p)"
   ]
  },
  {
   "cell_type": "code",
   "execution_count": 176,
   "id": "053557d2",
   "metadata": {
    "scrolled": true
   },
   "outputs": [
    {
     "name": "stdout",
     "output_type": "stream",
     "text": [
      "input array: [3]\n",
      "\n",
      "output scalar from input array: 3\n"
     ]
    },
    {
     "name": "stderr",
     "output_type": "stream",
     "text": [
      "<ipython-input-176-121217d2e8a9>:6: DeprecationWarning: np.asscalar(a) is deprecated since NumPy v1.16, use a.item() instead\n",
      "  out=edunet.asscalar(arr)\n"
     ]
    }
   ],
   "source": [
    "#creating scalars in numpy\n",
    "import numpy as edunet\n",
    "arr=edunet.array([3]) # size 1 array\n",
    "print('input array:',arr)\n",
    "print()\n",
    "\n",
    "print('output scalar from input array:',edunet.asscalar(arr))"
   ]
  },
  {
   "cell_type": "code",
   "execution_count": 181,
   "id": "3fd42c94",
   "metadata": {},
   "outputs": [
    {
     "name": "stdout",
     "output_type": "stream",
     "text": [
      "horizontal vector \n",
      " [1 2 3]\n",
      "\n",
      " vertical vector \n",
      " [[10]\n",
      " [20]\n",
      " [30]]\n"
     ]
    }
   ],
   "source": [
    "import numpy as np\n",
    "list1=[1,2,3]                #creating vector as row\n",
    "list2=[[10],[20],[30]]       #creating vector as column\n",
    "\n",
    "print('horizontal vector \\n',np.array(list1))\n",
    "print('\\n vertical vector \\n',np.array(list2))\n"
   ]
  },
  {
   "cell_type": "code",
   "execution_count": 187,
   "id": "05d7d02c",
   "metadata": {},
   "outputs": [
    {
     "name": "stdout",
     "output_type": "stream",
     "text": [
      "via string input: \n",
      " [[1 2 3]\n",
      " [4 5 0]] \n",
      "\n",
      "via array like input:\n",
      " [[5 6 7]\n",
      " [7 7 8]]\n"
     ]
    }
   ],
   "source": [
    "#creating matrix using numpy.matrix class\n",
    "\n",
    "import numpy as np\n",
    "\n",
    "#string input\n",
    "q=np.matrix('1 2 3; 4,5,0')\n",
    "print('via string input: \\n',q,'\\n')\n",
    "\n",
    "#array like input\n",
    "r=np.matrix([[5,6,7],[7,7,8]])\n",
    "print('via array like input:\\n',r)"
   ]
  },
  {
   "cell_type": "code",
   "execution_count": 189,
   "id": "f15e2aea",
   "metadata": {},
   "outputs": [
    {
     "name": "stdout",
     "output_type": "stream",
     "text": [
      "dot product of matrix: \n",
      " [[15  7]\n",
      " [36 -3]]\n"
     ]
    }
   ],
   "source": [
    "#matrix maltiplication\n",
    "\n",
    "import numpy as np\n",
    "mat1=([-1,4],[2,3])\n",
    "mat2=([9,-3],[6,1])\n",
    "\n",
    "print('dot product of matrix: \\n',np.dot(mat1,mat2))"
   ]
  },
  {
   "cell_type": "code",
   "execution_count": null,
   "id": "f6f04a9a",
   "metadata": {},
   "outputs": [],
   "source": []
  }
 ],
 "metadata": {
  "kernelspec": {
   "display_name": "Python 3",
   "language": "python",
   "name": "python3"
  },
  "language_info": {
   "codemirror_mode": {
    "name": "ipython",
    "version": 3
   },
   "file_extension": ".py",
   "mimetype": "text/x-python",
   "name": "python",
   "nbconvert_exporter": "python",
   "pygments_lexer": "ipython3",
   "version": "3.9.7"
  }
 },
 "nbformat": 4,
 "nbformat_minor": 5
}
